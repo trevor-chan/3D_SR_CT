{
 "cells": [
  {
   "cell_type": "code",
   "execution_count": 9,
   "metadata": {},
   "outputs": [],
   "source": [
    "import numpy as np\n",
    "import torch\n",
    "from torch.utils.data import Dataset\n",
    "import os\n",
    "import augmentation\n",
    "import matplotlib.pyplot as plt"
   ]
  },
  {
   "cell_type": "code",
   "execution_count": 40,
   "metadata": {},
   "outputs": [],
   "source": [
    "class PairedPatchDataset(torch.utils.data.Dataset):\n",
    "\n",
    "    def __init__(self, hr_directory, translation, rotation, flip, downsample):\n",
    "        self.hr_directory = hr_directory\n",
    "        # self.hr_path = os.listdir(hr_directory)\n",
    "        self.hr_paths = [os.path.join(hr_directory, f) for f in os.listdir(hr_directory)]\n",
    "        # augmentation args\n",
    "        self.translation = translation\n",
    "        self.rotation = rotation\n",
    "        self.flip = flip\n",
    "        self.downsample = downsample\n",
    "\n",
    "\n",
    "    def __len__(self):\n",
    "        return len(self.hr_paths)\n",
    "        \n",
    "\n",
    "    def augment(self, hr_patch, flip_prob):\n",
    "        if self.translation:\n",
    "            image = augmentation.translation(hr_patch)\n",
    "        if self.rotation:\n",
    "            image = augmentation.rotation(hr_patch)\n",
    "        if self.flip:\n",
    "            image = augmentation.flip(hr_patch, flip_prob)\n",
    "        \n",
    "        downsampled_img = augmentation.downsample(hr_patch)\n",
    "        return image, downsampled_img\n",
    "\n",
    "\n",
    "\n",
    "    def __getitem__(self, index):\n",
    "        # load hr image\n",
    "        hr_patch = np.load(self.hr_paths[index])\n",
    "\n",
    "        # apply augmentation to HR and generate corresponding LR \n",
    "        hr_aug, lr_aug = self.augment(hr_patch, flip_prob = 0.5)\n",
    "        return torch.tensor(hr_aug, dtype = torch.float32), torch.tensor(lr_aug, dtype = torch.float32)\n",
    "\n"
   ]
  },
  {
   "cell_type": "code",
   "execution_count": null,
   "metadata": {},
   "outputs": [],
   "source": []
  },
  {
   "cell_type": "markdown",
   "metadata": {},
   "source": [
    "## Test"
   ]
  },
  {
   "cell_type": "code",
   "execution_count": 24,
   "metadata": {},
   "outputs": [],
   "source": [
    "import tempfile"
   ]
  },
  {
   "cell_type": "code",
   "execution_count": 25,
   "metadata": {},
   "outputs": [
    {
     "name": "stdout",
     "output_type": "stream",
     "text": [
      "Temporary directory created at: /var/folders/34/x55w1k8j3gv4kpw6022k7zbr0000gn/T/tmp80jg51w8\n",
      "Random .npy files saved.\n"
     ]
    }
   ],
   "source": [
    "temp_dir = tempfile.mkdtemp()  # temporary directory\n",
    "\n",
    "# want 5 random 3D patches\n",
    "num_files = 5\n",
    "for i in range(num_files):\n",
    "    random_patch = np.random.rand(32, 32, 32)\n",
    "    file_path = os.path.join(temp_dir, f\"patch_{i}.npy\")\n",
    "    np.save(file_path, random_patch)\n",
    "\n",
    "print(f\"Temporary directory created at: {temp_dir}\")\n",
    "print(\"Random .npy files saved.\")\n"
   ]
  },
  {
   "cell_type": "code",
   "execution_count": 68,
   "metadata": {},
   "outputs": [],
   "source": [
    "directory = temp_dir\n",
    "test_dataset = PairedPatchDataset(hr_directory = directory, \n",
    "                                    translation = True, \n",
    "                                    rotation = True, \n",
    "                                    flip = True, \n",
    "                                    downsample = True)"
   ]
  },
  {
   "cell_type": "code",
   "execution_count": 69,
   "metadata": {},
   "outputs": [
    {
     "name": "stdout",
     "output_type": "stream",
     "text": [
      "Dataset length: 6\n"
     ]
    }
   ],
   "source": [
    "print(\"Dataset length:\", len(test_dataset))\n"
   ]
  },
  {
   "cell_type": "code",
   "execution_count": 75,
   "metadata": {},
   "outputs": [
    {
     "name": "stdout",
     "output_type": "stream",
     "text": [
      "chosen_axis:  (0, 2)\n",
      "scale:  5\n",
      "Sample HR shape: torch.Size([32, 32, 32])\n",
      "Sample LR shape: torch.Size([30, 30, 30])\n"
     ]
    }
   ],
   "source": [
    "sample_hr, sample_lr = test_dataset[1]  # sometimes lead to error: \n",
    "# Certain augmentations (like flipping an array with [::-1] in NumPy) effectively create a view of the original array with reversed memory order.\n",
    "print(\"Sample HR shape:\", sample_hr.shape)\n",
    "print(\"Sample LR shape:\", sample_lr.shape)"
   ]
  },
  {
   "cell_type": "code",
   "execution_count": 77,
   "metadata": {},
   "outputs": [
    {
     "data": {
      "image/png": "[encoded data removed]",
      "text/plain": [
       "<Figure size 800x400 with 2 Axes>"
      ]
     },
     "metadata": {},
     "output_type": "display_data"
    }
   ],
   "source": [
    "# Convert PyTorch tensors to NumPy arrays\n",
    "hr_np = sample_hr.numpy()\n",
    "lr_np = sample_lr.numpy()\n",
    "\n",
    "# Determine how to slice the 3D volume ([D, H, W])\n",
    "# Pick the middle slice along the depth dimension\n",
    "d_hr = hr_np.shape[0] // 2\n",
    "d_lr = lr_np.shape[0] // 2\n",
    "\n",
    "# Extract that 2D slice\n",
    "hr_slice = hr_np[d_hr, :, :]\n",
    "lr_slice = lr_np[d_lr, :, :]\n",
    "\n",
    "# Plot the two slices side by side\n",
    "fig, axes = plt.subplots(1, 2, figsize=(8, 4))\n",
    "\n",
    "axes[0].imshow(hr_slice)\n",
    "axes[0].set_title('HR Slice')\n",
    "axes[0].axis('off')\n",
    "\n",
    "axes[1].imshow(lr_slice)\n",
    "axes[1].set_title('LR Slice')\n",
    "axes[1].axis('off')\n",
    "\n",
    "plt.tight_layout()\n",
    "plt.show()\n"
   ]
  },
  {
   "cell_type": "code",
   "execution_count": null,
   "metadata": {},
   "outputs": [],
   "source": []
  }
 ],
 "metadata": {
  "kernelspec": {
   "display_name": "SuperResolution_CT_Project",
   "language": "python",
   "name": "python3"
  },
  "language_info": {
   "codemirror_mode": {
    "name": "ipython",
    "version": 3
   },
   "file_extension": ".py",
   "mimetype": "text/x-python",
   "name": "python",
   "nbconvert_exporter": "python",
   "pygments_lexer": "ipython3",
   "version": "3.12.8"
  }
 },
 "nbformat": 4,
 "nbformat_minor": 2
}
