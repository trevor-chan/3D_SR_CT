{
 "cells": [
  {
   "cell_type": "code",
   "execution_count": 1,
   "metadata": {},
   "outputs": [],
   "source": [
    "import numpy as np\n",
    "import torch\n",
    "from torch.utils.data import Dataset\n",
    "import os\n",
    "import augmentation\n",
    "import matplotlib.pyplot as plt"
   ]
  },
  {
   "cell_type": "code",
   "execution_count": 19,
   "metadata": {},
   "outputs": [],
   "source": [
    "class PatchDataset(Dataset):\n",
    "    def __init__(self, hr_dir, if_translation=True, if_rotation=True, if_flip=True, if_downsample=True, flip_prob=0.5, tgt_patch_size=(48, 48, 48), curr_patch_size=(64, 64, 64)):\n",
    "        self.hr_dir = hr_dir\n",
    "        # store full patch paths\n",
    "        self.hr_paths = []\n",
    "        # store corresponding image names\n",
    "        self.hr_img_names = []\n",
    "\n",
    "        for image_folder in os.listdir(hr_dir):\n",
    "            image_path = os.path.join(hr_dir, image_folder)\n",
    "\n",
    "            # Ensure it's a directory\n",
    "            if os.path.isdir(image_path):\n",
    "                for patch in os.listdir(image_path):\n",
    "                    patch_path = os.path.join(image_path, patch)\n",
    "\n",
    "                    if os.path.isfile(patch_path):\n",
    "                        self.hr_paths.append(patch_path)\n",
    "                        self.hr_img_names.append(image_folder)\n",
    "        \n",
    "        # augmentation args\n",
    "        self.translation = if_translation\n",
    "        self.rotation = if_rotation\n",
    "        self.flip = if_flip\n",
    "        self.downsample = if_downsample\n",
    "        self.flip_prob = flip_prob\n",
    "        self.tgt_patch_size = tgt_patch_size\n",
    "        self.curr_patch_size = curr_patch_size\n",
    "\n",
    "    def __len__(self):\n",
    "        return len(self.hr_paths)\n",
    "\n",
    "    def augment(self, hr_patch):\n",
    "        aug_patch = hr_patch\n",
    "        if self.translation:\n",
    "            aug_patch = augmentation.translation(aug_patch, self.tgt_patch_size, self.curr_patch_size)\n",
    "        if self.rotation:\n",
    "            aug_patch = augmentation.rotation(aug_patch)\n",
    "        if self.flip:\n",
    "            aug_patch = augmentation.flip(aug_patch, self.flip_prob)\n",
    "        if self.downsample:\n",
    "            aug_patch = augmentation.downsample(aug_patch)\n",
    "        return aug_patch\n",
    "\n",
    "    def __getitem__(self, index):\n",
    "        hr_patch = np.load(self.hr_paths[index])\n",
    "        aug_patch = self.augment(hr_patch)\n",
    "        \n",
    "        return torch.tensor(hr_patch, dtype = torch.float32), torch.tensor(aug_patch, dtype = torch.float32)\n",
    "\n"
   ]
  },
  {
   "cell_type": "markdown",
   "metadata": {},
   "source": [
    "## Test"
   ]
  },
  {
   "cell_type": "code",
   "execution_count": 12,
   "metadata": {},
   "outputs": [],
   "source": [
    "# import tempfile"
   ]
  },
  {
   "cell_type": "code",
   "execution_count": 13,
   "metadata": {},
   "outputs": [
    {
     "name": "stdout",
     "output_type": "stream",
     "text": [
      "Temporary directory created at: /var/folders/4b/fz80g1lx73dc2924jgrz94gr0000gn/T/tmpf77y7i3s\n",
      "Random .npy files saved inside image folders.\n"
     ]
    }
   ],
   "source": [
    "# temp_dir = tempfile.mkdtemp()  # Temporary root directory (hr_dir)\n",
    "\n",
    "# # Number of image folders\n",
    "# num_image_folders = 3  # e.g., image_1, image_2, image_3\n",
    "# num_files_per_folder = 5  # 5 random 3D patches per image folder\n",
    "\n",
    "# # Create subdirectories and generate random 3D patches\n",
    "# for img_idx in range(num_image_folders):\n",
    "#     image_folder = os.path.join(temp_dir, f\"image_{img_idx}\")\n",
    "#     os.makedirs(image_folder, exist_ok=True)  # Create image folder\n",
    "\n",
    "#     for file_idx in range(num_files_per_folder):\n",
    "#         random_patch = np.random.rand(64, 64, 64)  # Random 3D patch\n",
    "#         file_path = os.path.join(image_folder, f\"patch_{file_idx}.npy\")  # Save inside image folder\n",
    "#         np.save(file_path, random_patch)\n",
    "\n",
    "# print(f\"Temporary directory created at: {temp_dir}\")\n",
    "# print(\"Random .npy files saved inside image folders.\")\n"
   ]
  },
  {
   "cell_type": "code",
   "execution_count": 20,
   "metadata": {},
   "outputs": [
    {
     "name": "stdout",
     "output_type": "stream",
     "text": [
      "/Users/lilianli/lspfi/3D_SR_CT/test_folder\n",
      "Execution time: 0.01737 seconds\n"
     ]
    }
   ],
   "source": [
    "import time\n",
    "start_time = time.time()\n",
    "\n",
    "# replace this!\n",
    "directory = \"/Users/lilianli/lspfi/3D_SR_CT/test_folder\"\n",
    "print(directory)\n",
    "test_dataset = PatchDataset(hr_dir = directory)\n",
    "\n",
    "end_time = time.time()  # Record the end time\n",
    "\n",
    "execution_time = end_time - start_time\n",
    "print(f\"Execution time: {execution_time:.5f} seconds\")"
   ]
  },
  {
   "cell_type": "code",
   "execution_count": 21,
   "metadata": {},
   "outputs": [
    {
     "name": "stdout",
     "output_type": "stream",
     "text": [
      "Dataset length: 41\n"
     ]
    }
   ],
   "source": [
    "print(\"Dataset length:\", len(test_dataset))"
   ]
  },
  {
   "cell_type": "code",
   "execution_count": 22,
   "metadata": {},
   "outputs": [
    {
     "name": "stdout",
     "output_type": "stream",
     "text": [
      "chosen_axis:  (0, 1)\n",
      "scale:  2\n",
      "Sample HR shape: torch.Size([64, 64, 64])\n",
      "Sample LR shape: torch.Size([48, 48, 48])\n"
     ]
    }
   ],
   "source": [
    "sample_hr, sample_lr = test_dataset[1]  \n",
    "# sometimes lead to error: \n",
    "# Certain augmentations (like flipping an array with [::-1] in NumPy) effectively create a view of the original array with reversed memory order.\n",
    "# Also difference in shape of HR and LR patches???\n",
    "print(\"Sample HR shape:\", sample_hr.shape)\n",
    "print(\"Sample LR shape:\", sample_lr.shape)"
   ]
  },
  {
   "cell_type": "code",
   "execution_count": 23,
   "metadata": {},
   "outputs": [
    {
     "data": {
      "image/png": "[encoded data removed]",
      "text/plain": [
       "<Figure size 800x400 with 2 Axes>"
      ]
     },
     "metadata": {},
     "output_type": "display_data"
    }
   ],
   "source": [
    "# Convert PyTorch tensors to NumPy arrays\n",
    "hr_np = sample_hr.numpy()\n",
    "lr_np = sample_lr.numpy()\n",
    "\n",
    "# Determine how to slice the 3D volume ([D, H, W])\n",
    "# Pick the middle slice along the depth dimension\n",
    "d_hr = hr_np.shape[0] // 2\n",
    "d_lr = lr_np.shape[0] // 2\n",
    "\n",
    "# Extract that 2D slice\n",
    "hr_slice = hr_np[d_hr, :, :]\n",
    "lr_slice = lr_np[d_lr, :, :]\n",
    "\n",
    "# Plot the two slices side by side\n",
    "fig, axes = plt.subplots(1, 2, figsize=(8, 4))\n",
    "\n",
    "axes[0].imshow(hr_slice)\n",
    "axes[0].set_title('HR Slice')\n",
    "axes[0].axis('off')\n",
    "\n",
    "axes[1].imshow(lr_slice)\n",
    "axes[1].set_title('LR Slice')\n",
    "axes[1].axis('off')\n",
    "\n",
    "plt.tight_layout()\n",
    "plt.show()\n"
   ]
  },
  {
   "cell_type": "code",
   "execution_count": null,
   "metadata": {},
   "outputs": [],
   "source": []
  }
 ],
 "metadata": {
  "kernelspec": {
   "display_name": "SuperResolution_CT_Project",
   "language": "python",
   "name": "python3"
  },
  "language_info": {
   "codemirror_mode": {
    "name": "ipython",
    "version": 3
   },
   "file_extension": ".py",
   "mimetype": "text/x-python",
   "name": "python",
   "nbconvert_exporter": "python",
   "pygments_lexer": "ipython3",
   "version": "3.12.8"
  }
 },
 "nbformat": 4,
 "nbformat_minor": 2
}
