{
 "cells": [
  {
   "cell_type": "code",
   "execution_count": 2,
   "metadata": {},
   "outputs": [],
   "source": [
    "# multi threaded \n",
    "import numpy as np\n",
    "import pandas as pd\n",
    "import torch\n",
    "from torch.utils.data import Dataset\n",
    "from scipy import ndimage\n",
    "# config\n",
    "\n",
    "overlap = 20\n",
    "pre_patch_size = [96, 96, 96]\n",
    "patch_size = [64, 64, 64]\n",
    "# initialize 3d image 256*256*256, filled with random values\n",
    "image = np.random.rand(256, 256, 256)\n",
    "intensity_thres = 20\n",
    "random_thres = 0.7\n"
   ]
  },
  {
   "cell_type": "code",
   "execution_count": null,
   "metadata": {},
   "outputs": [],
   "source": [
    "# augmentation functions\n",
    "\n",
    "# input: channel (high res, low res), H, W, D\n",
    "def translation(image):\n",
    "    # randomly translates the 3D patch by a random value within limits of pre_patch_size and conforms to patch_size\n",
    "    shift_x = np.random.randint(0, pre_patch_size[0] - patch_size[0] + 1)\n",
    "    shift_y = np.random.randint(0, pre_patch_size[1] - patch_size[1] + 1)\n",
    "    shift_z = np.random.randint(0, pre_patch_size[2] - patch_size[2] + 1)\n",
    "\n",
    "    return image[shift_x:shift_x + patch_size[0], shift_y:shift_y + patch_size[1], shift_z:shift_z + patch_size[2]]\n",
    "\n",
    "def rotation(image):\n",
    "    # randomly rotates the image by 90 degrees or -90 degrees along x, y, or z axes\n",
    "    chosen_axis = np.random.choice[(0,1), (0,2), (1,2)]\n",
    "    angle = np.random.choice([90, -90, 0, 180])\n",
    "    return ndimage.rotate(image, angle, axes=chosen_axis, reshape=False)\n",
    "\n",
    "def flip(image):\n",
    "    # randomly choose an axis to flip\n",
    "    if np.random.rand() < 0.5:\n",
    "        axis = np.random.choice([0, 1, 2])\n",
    "        image = np.flip(image, axis=axis)\n",
    "    return image\n",
    "\n",
    "# downsampling image: maybe from 0.6 to 1\n"
   ]
  },
  {
   "cell_type": "code",
   "execution_count": 3,
   "metadata": {},
   "outputs": [],
   "source": [
    "class Image:\n",
    "    def __init__(self, image, augmentations=[]):\n",
    "        \"\"\"Initializes the Image object and converts the image to 8-bit.\"\"\"\n",
    "        self.high_res_patch = []\n",
    "        self.low_res_patch = []\n",
    "        self.image = image\n",
    "        self.augmentations = []\n",
    "\n",
    "        self.convert_to_8bit()\n",
    "        self.get_patch()\n",
    "        \n",
    "    def convert_to_8bit(self):\n",
    "        \"\"\"Converts the image to 8-bit format (0-255).\"\"\"\n",
    "        img_min = np.min(self.image)\n",
    "        img_max = np.max(self.image)\n",
    "        self.image = ((self.image - img_min) / (img_max - img_min) * 255).astype(np.uint8)\n",
    "\n",
    "    def get_patch(self):\n",
    "        \"\"\"Extracts overlapping patches from the image while filtering based on intensity.\"\"\"\n",
    "        for i in range(0, self.image.shape[0], pre_patch_size[0] - overlap):\n",
    "            for j in range(0, self.image.shape[1], pre_patch_size[1] - overlap):\n",
    "                for k in range(0, self.image.shape[2], pre_patch_size[2] - overlap):\n",
    "                    patch = self.image[i:i + pre_patch_size[0], j:j + pre_patch_size[1], k:k + pre_patch_size[2]]\n",
    "                    avg_intensity = np.mean(patch)\n",
    "                    if self.filter_patch(avg_intensity):\n",
    "                        self.high_res_patch.append(patch)\n",
    "\n",
    "                        # apply augmentations\n",
    "                        # for aug in self.augmentations:\n",
    "                        #     patch = aug(patch)\n",
    "                        # downsampling after augmentation\n",
    "                        # self.low_res_patch.append()\n",
    "\n",
    "    def filter_patch(self, avg_intensity):\n",
    "        \"\"\"Filters patches based on intensity and a random threshold for low-intensity patches.\"\"\"\n",
    "        if avg_intensity > intensity_thres:\n",
    "            return True\n",
    "        else:\n",
    "            return np.random.rand() > random_thres\n",
    "        \n",
    "    def save_patches(self, image):\n",
    "        # include filename\n",
    "\n",
    "    # def downsample(self, image):\n",
    "    #     \"\"\"Downsamples the image by 1/3 and upsamples it back to original size.\"\"\"\n",
    "    #     image = ndimage.zoom(image, 1/3)\n",
    "    #     image = ndimage.zoom(image, 3)\n",
    "    #     return image\n"
   ]
  },
  {
   "cell_type": "code",
   "execution_count": null,
   "metadata": {},
   "outputs": [],
   "source": [
    "# when dataloader \n",
    "# implement them ourselves: translation, rotation (90 degrees), flipping/mirroring, small brighteness/contrast"
   ]
  },
  {
   "cell_type": "code",
   "execution_count": null,
   "metadata": {},
   "outputs": [],
   "source": [
    "# dataset\n",
    "# have augmentation inside dataset\n",
    "# input: DCM => output: npy\n",
    "\n",
    "\n",
    "class CustomImageDataset(Dataset):\n",
    "    def __init__(self, image, augmentations):\n",
    "        self.processed_image = Image(image, augmentations)\n",
    "        self.high_res_patch = self.processed_image.high_res_patch\n",
    "        self.low_res_patch = self.processed_image.low_res_patch\n",
    "\n",
    "    def __len__(self):\n",
    "        return len(self.high_res_patch)\n",
    "\n",
    "    def __getitem__(self, idx):\n",
    "        return self.high_res_patch[idx], self.low_res_patch[idx]"
   ]
  },
  {
   "cell_type": "markdown",
   "metadata": {},
   "source": [
    "### Notes\n",
    "\n",
    "- augmentation libraries: monai, kornia, volumnetations; https://github.com/kornia/kornia\n"
   ]
  }
 ],
 "metadata": {
  "kernelspec": {
   "display_name": "Python 3 (ipykernel)",
   "language": "python",
   "name": "python3"
  },
  "language_info": {
   "codemirror_mode": {
    "name": "ipython",
    "version": 3
   },
   "file_extension": ".py",
   "mimetype": "text/x-python",
   "name": "python",
   "nbconvert_exporter": "python",
   "pygments_lexer": "ipython3",
   "version": "3.12.1"
  }
 },
 "nbformat": 4,
 "nbformat_minor": 4
}
