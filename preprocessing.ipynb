{
 "cells": [
  {
   "cell_type": "code",
   "execution_count": 2,
   "metadata": {},
   "outputs": [],
   "source": [
    "import numpy as np\n",
    "import pandas as pd\n",
    "import torch\n",
    "from torch.utils.data import Dataset\n",
    "# config\n",
    "\n",
    "overlap = 20\n",
    "patch_size = [96, 96, 96]\n",
    "# initialize 3d image 256*256*256, filled with random values\n",
    "image = np.random.rand(256, 256, 256)"
   ]
  },
  {
   "cell_type": "code",
   "execution_count": null,
   "metadata": {},
   "outputs": [],
   "source": [
    "# precprocessing\n",
    "# convert to 8 bit\n",
    "\n",
    "# get patch 96 * 96 * 96 from image with overlap 20\n",
    "def get_patch(image, patch_size, overlap):\n",
    "    patches = []\n",
    "    for i in range(0, image.shape[0], patch_size[0] - overlap):\n",
    "        for j in range(0, image.shape[1], patch_size[1] - overlap):\n",
    "            for k in range(0, image.shape[2], patch_size[2] - overlap):\n",
    "                patch = image[i:i + patch_size[0], j:j + patch_size[1], k:k + patch_size[2]]\n",
    "                patches.append(patch)\n",
    "    return patches\n",
    "\n",
    "# filter function\n",
    "# calcualte average intensity, determine whether to keep it base on the random number we generated\n",
    "# make the threshold 20 (90% black), everything below generate random number \n",
    "\n",
    "# tri linear downsampling\n",
    "# https://docs.scipy.org/doc/scipy/reference/generated/scipy.ndimage.zoom.html\n",
    "# zoom image to 1/3 and 3 of the size\n"
   ]
  },
  {
   "cell_type": "code",
   "execution_count": null,
   "metadata": {},
   "outputs": [],
   "source": [
    "# augmentation libraries: monai, kornia, volumnetations; https://github.com/kornia/kornia\n",
    "# when dataloader \n",
    "# implement them ourselves: translation, rotation (90 degrees), flipping/mirroring, small brighteness/contrast"
   ]
  },
  {
   "cell_type": "code",
   "execution_count": null,
   "metadata": {},
   "outputs": [],
   "source": [
    "# dataset\n",
    "class CustomImageDataset(Dataset):\n",
    "    def __init__(high_res_img, low_res_img):\n",
    "        pass\n",
    "\n",
    "    def __len__(self):\n",
    "        pass\n",
    "\n",
    "    def __getitem__(self, idx):\n",
    "        pass"
   ]
  }
 ],
 "metadata": {
  "kernelspec": {
   "display_name": "Python 3",
   "language": "python",
   "name": "python3"
  },
  "language_info": {
   "codemirror_mode": {
    "name": "ipython",
    "version": 3
   },
   "file_extension": ".py",
   "mimetype": "text/x-python",
   "name": "python",
   "nbconvert_exporter": "python",
   "pygments_lexer": "ipython3",
   "version": "3.12.1"
  }
 },
 "nbformat": 4,
 "nbformat_minor": 2
}
