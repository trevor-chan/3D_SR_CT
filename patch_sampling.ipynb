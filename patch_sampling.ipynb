{
 "cells": [
  {
   "cell_type": "code",
   "execution_count": 1,
   "metadata": {},
   "outputs": [],
   "source": [
    "import os\n",
    "import numpy as np\n",
    "import pydicom\n",
    "from scipy import ndimage\n",
    "\n",
    "high_res_path = 'test_img/'\n",
    "patches_path = 'patches_img/'\n",
    "\n",
    "high_res_voxel_size = 0.033\n",
    "desired_voxel_size = 0.2\n",
    "patch_size = 96\n",
    "overlap_size = 32\n"
   ]
  },
  {
   "cell_type": "code",
   "execution_count": null,
   "metadata": {},
   "outputs": [],
   "source": [
    "def get_sorted_dicom_files(path):\n",
    "    dicom_files = [os.path.join(path, f) for f in os.listdir(path)]\n",
    "    return sorted(dicom_files)\n",
    "\n",
    "\n",
    "def load_dicom_block(dicom_files, start, end):\n",
    "    dicom_slices = [pydicom.dcmread(f).pixel_array for f in dicom_files[start:end]]\n",
    "    img = np.stack(dicom_slices, axis=-1)\n",
    "    return img\n",
    "\n",
    "def extract_patches(img, patch_id):\n",
    "    downsampled_img = ndimage.zoom(img, high_res_voxel_size / desired_voxel_size)\n",
    "    z_size, x_size, y_size = downsampled_img.shape\n",
    "    if z_size < patch_size:\n",
    "        print(f'z size is less than patch size: {z_size}')\n",
    "        return patch_id\n",
    "    else:\n",
    "        downsampled_img = downsampled_img[:, :, :patch_size]\n",
    "\n",
    "    for x in range(0, x_size - patch_size, patch_size - overlap_size):\n",
    "        for y in range(0, y_size - patch_size, patch_size - overlap_size):\n",
    "            if x + patch_size <= x_size and y + patch_size <= y_size:\n",
    "                patch = downsampled_img[x:x+patch_size, y:y+patch_size, :]\n",
    "                patch_filename = os.path.join(patches_path, f'{patch_id}.npy')\n",
    "                np.save(patch_filename, patch)\n",
    "                patch_id += 1\n",
    "    \n",
    "    return patch_id\n",
    "\n",
    "    "
   ]
  },
  {
   "cell_type": "code",
   "execution_count": null,
   "metadata": {},
   "outputs": [],
   "source": [
    "high_res_files = get_sorted_dicom_files(high_res_path)\n",
    "high_res_patch_size = int (patch_size * desired_voxel_size / high_res_voxel_size + 1)\n",
    "high_res_overlap_size = int (overlap_size * desired_voxel_size / high_res_voxel_size + 1)\n",
    "patch_id = 0\n",
    "\n",
    "for i in range(0, len(high_res_files), high_res_patch_size - high_res_overlap_size):\n",
    "    if i + high_res_patch_size <= len(high_res_files):\n",
    "        img = load_dicom_block(high_res_files, i, i + high_res_patch_size)\n",
    "        patch_id = extract_patches(img, patch_id)\n",
    "        print(f'Processed {i} of {len(high_res_files)}')\n"
   ]
  }
 ],
 "metadata": {
  "kernelspec": {
   "display_name": "Python 3",
   "language": "python",
   "name": "python3"
  },
  "language_info": {
   "codemirror_mode": {
    "name": "ipython",
    "version": 3
   },
   "file_extension": ".py",
   "mimetype": "text/x-python",
   "name": "python",
   "nbconvert_exporter": "python",
   "pygments_lexer": "ipython3",
   "version": "3.12.1"
  }
 },
 "nbformat": 4,
 "nbformat_minor": 2
}
